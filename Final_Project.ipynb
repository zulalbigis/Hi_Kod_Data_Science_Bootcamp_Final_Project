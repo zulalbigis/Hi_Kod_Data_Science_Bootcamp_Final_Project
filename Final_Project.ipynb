{
 "cells": [
  {
   "cell_type": "code",
   "execution_count": 4,
   "metadata": {},
   "outputs": [],
   "source": [
    "\n",
    "import numpy as np\n",
    "import pandas as pd"
   ]
  },
  {
   "cell_type": "code",
   "execution_count": 5,
   "metadata": {},
   "outputs": [
    {
     "data": {
      "text/html": [
       "<div>\n",
       "<style scoped>\n",
       "    .dataframe tbody tr th:only-of-type {\n",
       "        vertical-align: middle;\n",
       "    }\n",
       "\n",
       "    .dataframe tbody tr th {\n",
       "        vertical-align: top;\n",
       "    }\n",
       "\n",
       "    .dataframe thead th {\n",
       "        text-align: right;\n",
       "    }\n",
       "</style>\n",
       "<table border=\"1\" class=\"dataframe\">\n",
       "  <thead>\n",
       "    <tr style=\"text-align: right;\">\n",
       "      <th></th>\n",
       "      <th>ID</th>\n",
       "      <th>Dept</th>\n",
       "      <th>Gender</th>\n",
       "      <th>Clin</th>\n",
       "      <th>Cert</th>\n",
       "      <th>Prate</th>\n",
       "      <th>Exper</th>\n",
       "      <th>Rank</th>\n",
       "      <th>Sal94</th>\n",
       "      <th>Sal95</th>\n",
       "    </tr>\n",
       "  </thead>\n",
       "  <tbody>\n",
       "    <tr>\n",
       "      <th>0</th>\n",
       "      <td>1</td>\n",
       "      <td>1</td>\n",
       "      <td>1</td>\n",
       "      <td>0</td>\n",
       "      <td>0</td>\n",
       "      <td>7.4</td>\n",
       "      <td>9</td>\n",
       "      <td>3</td>\n",
       "      <td>77836</td>\n",
       "      <td>84612</td>\n",
       "    </tr>\n",
       "    <tr>\n",
       "      <th>1</th>\n",
       "      <td>2</td>\n",
       "      <td>1</td>\n",
       "      <td>1</td>\n",
       "      <td>0</td>\n",
       "      <td>0</td>\n",
       "      <td>6.7</td>\n",
       "      <td>10</td>\n",
       "      <td>2</td>\n",
       "      <td>69994</td>\n",
       "      <td>78497</td>\n",
       "    </tr>\n",
       "    <tr>\n",
       "      <th>2</th>\n",
       "      <td>3</td>\n",
       "      <td>1</td>\n",
       "      <td>1</td>\n",
       "      <td>0</td>\n",
       "      <td>0</td>\n",
       "      <td>8.1</td>\n",
       "      <td>6</td>\n",
       "      <td>1</td>\n",
       "      <td>62872</td>\n",
       "      <td>67756</td>\n",
       "    </tr>\n",
       "    <tr>\n",
       "      <th>3</th>\n",
       "      <td>4</td>\n",
       "      <td>1</td>\n",
       "      <td>1</td>\n",
       "      <td>1</td>\n",
       "      <td>1</td>\n",
       "      <td>5.1</td>\n",
       "      <td>27</td>\n",
       "      <td>3</td>\n",
       "      <td>155196</td>\n",
       "      <td>173220</td>\n",
       "    </tr>\n",
       "    <tr>\n",
       "      <th>4</th>\n",
       "      <td>5</td>\n",
       "      <td>1</td>\n",
       "      <td>1</td>\n",
       "      <td>0</td>\n",
       "      <td>0</td>\n",
       "      <td>7.0</td>\n",
       "      <td>10</td>\n",
       "      <td>3</td>\n",
       "      <td>89268</td>\n",
       "      <td>96099</td>\n",
       "    </tr>\n",
       "    <tr>\n",
       "      <th>...</th>\n",
       "      <td>...</td>\n",
       "      <td>...</td>\n",
       "      <td>...</td>\n",
       "      <td>...</td>\n",
       "      <td>...</td>\n",
       "      <td>...</td>\n",
       "      <td>...</td>\n",
       "      <td>...</td>\n",
       "      <td>...</td>\n",
       "      <td>...</td>\n",
       "    </tr>\n",
       "    <tr>\n",
       "      <th>256</th>\n",
       "      <td>257</td>\n",
       "      <td>6</td>\n",
       "      <td>0</td>\n",
       "      <td>1</td>\n",
       "      <td>1</td>\n",
       "      <td>2.9</td>\n",
       "      <td>8</td>\n",
       "      <td>2</td>\n",
       "      <td>297174</td>\n",
       "      <td>323699</td>\n",
       "    </tr>\n",
       "    <tr>\n",
       "      <th>257</th>\n",
       "      <td>258</td>\n",
       "      <td>6</td>\n",
       "      <td>0</td>\n",
       "      <td>1</td>\n",
       "      <td>1</td>\n",
       "      <td>2.6</td>\n",
       "      <td>9</td>\n",
       "      <td>3</td>\n",
       "      <td>308081</td>\n",
       "      <td>339664</td>\n",
       "    </tr>\n",
       "    <tr>\n",
       "      <th>258</th>\n",
       "      <td>259</td>\n",
       "      <td>6</td>\n",
       "      <td>0</td>\n",
       "      <td>1</td>\n",
       "      <td>1</td>\n",
       "      <td>2.8</td>\n",
       "      <td>8</td>\n",
       "      <td>1</td>\n",
       "      <td>211269</td>\n",
       "      <td>241577</td>\n",
       "    </tr>\n",
       "    <tr>\n",
       "      <th>259</th>\n",
       "      <td>260</td>\n",
       "      <td>6</td>\n",
       "      <td>0</td>\n",
       "      <td>1</td>\n",
       "      <td>1</td>\n",
       "      <td>2.4</td>\n",
       "      <td>2</td>\n",
       "      <td>1</td>\n",
       "      <td>210801</td>\n",
       "      <td>233905</td>\n",
       "    </tr>\n",
       "    <tr>\n",
       "      <th>260</th>\n",
       "      <td>261</td>\n",
       "      <td>6</td>\n",
       "      <td>0</td>\n",
       "      <td>1</td>\n",
       "      <td>1</td>\n",
       "      <td>3.2</td>\n",
       "      <td>5</td>\n",
       "      <td>1</td>\n",
       "      <td>244551</td>\n",
       "      <td>265502</td>\n",
       "    </tr>\n",
       "  </tbody>\n",
       "</table>\n",
       "<p>261 rows × 10 columns</p>\n",
       "</div>"
      ],
      "text/plain": [
       "      ID  Dept  Gender  Clin  Cert  Prate  Exper  Rank   Sal94   Sal95\n",
       "0      1     1       1     0     0    7.4      9     3   77836   84612\n",
       "1      2     1       1     0     0    6.7     10     2   69994   78497\n",
       "2      3     1       1     0     0    8.1      6     1   62872   67756\n",
       "3      4     1       1     1     1    5.1     27     3  155196  173220\n",
       "4      5     1       1     0     0    7.0     10     3   89268   96099\n",
       "..   ...   ...     ...   ...   ...    ...    ...   ...     ...     ...\n",
       "256  257     6       0     1     1    2.9      8     2  297174  323699\n",
       "257  258     6       0     1     1    2.6      9     3  308081  339664\n",
       "258  259     6       0     1     1    2.8      8     1  211269  241577\n",
       "259  260     6       0     1     1    2.4      2     1  210801  233905\n",
       "260  261     6       0     1     1    3.2      5     1  244551  265502\n",
       "\n",
       "[261 rows x 10 columns]"
      ]
     },
     "execution_count": 5,
     "metadata": {},
     "output_type": "execute_result"
    }
   ],
   "source": [
    "df = pd.read_csv(\"Lawsuit.csv\") \n",
    "df"
   ]
  },
  {
   "cell_type": "code",
   "execution_count": 6,
   "metadata": {},
   "outputs": [
    {
     "data": {
      "text/html": [
       "<div>\n",
       "<style scoped>\n",
       "    .dataframe tbody tr th:only-of-type {\n",
       "        vertical-align: middle;\n",
       "    }\n",
       "\n",
       "    .dataframe tbody tr th {\n",
       "        vertical-align: top;\n",
       "    }\n",
       "\n",
       "    .dataframe thead th {\n",
       "        text-align: right;\n",
       "    }\n",
       "</style>\n",
       "<table border=\"1\" class=\"dataframe\">\n",
       "  <thead>\n",
       "    <tr style=\"text-align: right;\">\n",
       "      <th></th>\n",
       "      <th>ID</th>\n",
       "      <th>Dept</th>\n",
       "      <th>Gender</th>\n",
       "      <th>Clin</th>\n",
       "      <th>Cert</th>\n",
       "      <th>Prate</th>\n",
       "      <th>Exper</th>\n",
       "      <th>Rank</th>\n",
       "      <th>Sal94</th>\n",
       "      <th>Sal95</th>\n",
       "    </tr>\n",
       "  </thead>\n",
       "  <tbody>\n",
       "    <tr>\n",
       "      <th>0</th>\n",
       "      <td>1</td>\n",
       "      <td>1</td>\n",
       "      <td>1</td>\n",
       "      <td>0</td>\n",
       "      <td>0</td>\n",
       "      <td>7.4</td>\n",
       "      <td>9</td>\n",
       "      <td>3</td>\n",
       "      <td>77836</td>\n",
       "      <td>84612</td>\n",
       "    </tr>\n",
       "    <tr>\n",
       "      <th>1</th>\n",
       "      <td>2</td>\n",
       "      <td>1</td>\n",
       "      <td>1</td>\n",
       "      <td>0</td>\n",
       "      <td>0</td>\n",
       "      <td>6.7</td>\n",
       "      <td>10</td>\n",
       "      <td>2</td>\n",
       "      <td>69994</td>\n",
       "      <td>78497</td>\n",
       "    </tr>\n",
       "    <tr>\n",
       "      <th>2</th>\n",
       "      <td>3</td>\n",
       "      <td>1</td>\n",
       "      <td>1</td>\n",
       "      <td>0</td>\n",
       "      <td>0</td>\n",
       "      <td>8.1</td>\n",
       "      <td>6</td>\n",
       "      <td>1</td>\n",
       "      <td>62872</td>\n",
       "      <td>67756</td>\n",
       "    </tr>\n",
       "    <tr>\n",
       "      <th>3</th>\n",
       "      <td>4</td>\n",
       "      <td>1</td>\n",
       "      <td>1</td>\n",
       "      <td>1</td>\n",
       "      <td>1</td>\n",
       "      <td>5.1</td>\n",
       "      <td>27</td>\n",
       "      <td>3</td>\n",
       "      <td>155196</td>\n",
       "      <td>173220</td>\n",
       "    </tr>\n",
       "    <tr>\n",
       "      <th>4</th>\n",
       "      <td>5</td>\n",
       "      <td>1</td>\n",
       "      <td>1</td>\n",
       "      <td>0</td>\n",
       "      <td>0</td>\n",
       "      <td>7.0</td>\n",
       "      <td>10</td>\n",
       "      <td>3</td>\n",
       "      <td>89268</td>\n",
       "      <td>96099</td>\n",
       "    </tr>\n",
       "  </tbody>\n",
       "</table>\n",
       "</div>"
      ],
      "text/plain": [
       "   ID  Dept  Gender  Clin  Cert  Prate  Exper  Rank   Sal94   Sal95\n",
       "0   1     1       1     0     0    7.4      9     3   77836   84612\n",
       "1   2     1       1     0     0    6.7     10     2   69994   78497\n",
       "2   3     1       1     0     0    8.1      6     1   62872   67756\n",
       "3   4     1       1     1     1    5.1     27     3  155196  173220\n",
       "4   5     1       1     0     0    7.0     10     3   89268   96099"
      ]
     },
     "execution_count": 6,
     "metadata": {},
     "output_type": "execute_result"
    }
   ],
   "source": [
    "df.head()"
   ]
  },
  {
   "cell_type": "code",
   "execution_count": 7,
   "metadata": {},
   "outputs": [
    {
     "data": {
      "text/html": [
       "<div>\n",
       "<style scoped>\n",
       "    .dataframe tbody tr th:only-of-type {\n",
       "        vertical-align: middle;\n",
       "    }\n",
       "\n",
       "    .dataframe tbody tr th {\n",
       "        vertical-align: top;\n",
       "    }\n",
       "\n",
       "    .dataframe thead th {\n",
       "        text-align: right;\n",
       "    }\n",
       "</style>\n",
       "<table border=\"1\" class=\"dataframe\">\n",
       "  <thead>\n",
       "    <tr style=\"text-align: right;\">\n",
       "      <th></th>\n",
       "      <th>ID</th>\n",
       "      <th>Dept</th>\n",
       "      <th>Gender</th>\n",
       "      <th>Clin</th>\n",
       "      <th>Cert</th>\n",
       "      <th>Prate</th>\n",
       "      <th>Exper</th>\n",
       "      <th>Rank</th>\n",
       "      <th>Sal94</th>\n",
       "      <th>Sal95</th>\n",
       "    </tr>\n",
       "  </thead>\n",
       "  <tbody>\n",
       "    <tr>\n",
       "      <th>256</th>\n",
       "      <td>257</td>\n",
       "      <td>6</td>\n",
       "      <td>0</td>\n",
       "      <td>1</td>\n",
       "      <td>1</td>\n",
       "      <td>2.9</td>\n",
       "      <td>8</td>\n",
       "      <td>2</td>\n",
       "      <td>297174</td>\n",
       "      <td>323699</td>\n",
       "    </tr>\n",
       "    <tr>\n",
       "      <th>257</th>\n",
       "      <td>258</td>\n",
       "      <td>6</td>\n",
       "      <td>0</td>\n",
       "      <td>1</td>\n",
       "      <td>1</td>\n",
       "      <td>2.6</td>\n",
       "      <td>9</td>\n",
       "      <td>3</td>\n",
       "      <td>308081</td>\n",
       "      <td>339664</td>\n",
       "    </tr>\n",
       "    <tr>\n",
       "      <th>258</th>\n",
       "      <td>259</td>\n",
       "      <td>6</td>\n",
       "      <td>0</td>\n",
       "      <td>1</td>\n",
       "      <td>1</td>\n",
       "      <td>2.8</td>\n",
       "      <td>8</td>\n",
       "      <td>1</td>\n",
       "      <td>211269</td>\n",
       "      <td>241577</td>\n",
       "    </tr>\n",
       "    <tr>\n",
       "      <th>259</th>\n",
       "      <td>260</td>\n",
       "      <td>6</td>\n",
       "      <td>0</td>\n",
       "      <td>1</td>\n",
       "      <td>1</td>\n",
       "      <td>2.4</td>\n",
       "      <td>2</td>\n",
       "      <td>1</td>\n",
       "      <td>210801</td>\n",
       "      <td>233905</td>\n",
       "    </tr>\n",
       "    <tr>\n",
       "      <th>260</th>\n",
       "      <td>261</td>\n",
       "      <td>6</td>\n",
       "      <td>0</td>\n",
       "      <td>1</td>\n",
       "      <td>1</td>\n",
       "      <td>3.2</td>\n",
       "      <td>5</td>\n",
       "      <td>1</td>\n",
       "      <td>244551</td>\n",
       "      <td>265502</td>\n",
       "    </tr>\n",
       "  </tbody>\n",
       "</table>\n",
       "</div>"
      ],
      "text/plain": [
       "      ID  Dept  Gender  Clin  Cert  Prate  Exper  Rank   Sal94   Sal95\n",
       "256  257     6       0     1     1    2.9      8     2  297174  323699\n",
       "257  258     6       0     1     1    2.6      9     3  308081  339664\n",
       "258  259     6       0     1     1    2.8      8     1  211269  241577\n",
       "259  260     6       0     1     1    2.4      2     1  210801  233905\n",
       "260  261     6       0     1     1    3.2      5     1  244551  265502"
      ]
     },
     "execution_count": 7,
     "metadata": {},
     "output_type": "execute_result"
    }
   ],
   "source": [
    "df.tail()"
   ]
  },
  {
   "cell_type": "code",
   "execution_count": 8,
   "metadata": {},
   "outputs": [
    {
     "name": "stdout",
     "output_type": "stream",
     "text": [
      "<class 'pandas.core.frame.DataFrame'>\n",
      "RangeIndex: 261 entries, 0 to 260\n",
      "Data columns (total 10 columns):\n",
      " #   Column  Non-Null Count  Dtype  \n",
      "---  ------  --------------  -----  \n",
      " 0   ID      261 non-null    int64  \n",
      " 1   Dept    261 non-null    int64  \n",
      " 2   Gender  261 non-null    int64  \n",
      " 3   Clin    261 non-null    int64  \n",
      " 4   Cert    261 non-null    int64  \n",
      " 5   Prate   261 non-null    float64\n",
      " 6   Exper   261 non-null    int64  \n",
      " 7   Rank    261 non-null    int64  \n",
      " 8   Sal94   261 non-null    int64  \n",
      " 9   Sal95   261 non-null    int64  \n",
      "dtypes: float64(1), int64(9)\n",
      "memory usage: 20.5 KB\n"
     ]
    }
   ],
   "source": [
    "df.info()"
   ]
  },
  {
   "cell_type": "code",
   "execution_count": 9,
   "metadata": {},
   "outputs": [
    {
     "data": {
      "text/plain": [
       "ID        False\n",
       "Dept      False\n",
       "Gender    False\n",
       "Clin      False\n",
       "Cert      False\n",
       "Prate     False\n",
       "Exper     False\n",
       "Rank      False\n",
       "Sal94     False\n",
       "Sal95     False\n",
       "dtype: bool"
      ]
     },
     "execution_count": 9,
     "metadata": {},
     "output_type": "execute_result"
    }
   ],
   "source": [
    "df.isnull().any()"
   ]
  },
  {
   "cell_type": "code",
   "execution_count": 11,
   "metadata": {},
   "outputs": [
    {
     "name": "stdout",
     "output_type": "stream",
     "text": [
      "################### Shape ###################\n",
      "(261, 10)\n",
      "################### Types ###################\n",
      "ID          int64\n",
      "Dept        int64\n",
      "Gender      int64\n",
      "Clin        int64\n",
      "Cert        int64\n",
      "Prate     float64\n",
      "Exper       int64\n",
      "Rank        int64\n",
      "Sal94       int64\n",
      "Sal95       int64\n",
      "dtype: object\n",
      "################### NA ######################\n",
      "ID        0\n",
      "Dept      0\n",
      "Gender    0\n",
      "Clin      0\n",
      "Cert      0\n",
      "Prate     0\n",
      "Exper     0\n",
      "Rank      0\n",
      "Sal94     0\n",
      "Sal95     0\n",
      "dtype: int64\n",
      "################### Info ####################\n",
      "<class 'pandas.core.frame.DataFrame'>\n",
      "RangeIndex: 261 entries, 0 to 260\n",
      "Data columns (total 10 columns):\n",
      " #   Column  Non-Null Count  Dtype  \n",
      "---  ------  --------------  -----  \n",
      " 0   ID      261 non-null    int64  \n",
      " 1   Dept    261 non-null    int64  \n",
      " 2   Gender  261 non-null    int64  \n",
      " 3   Clin    261 non-null    int64  \n",
      " 4   Cert    261 non-null    int64  \n",
      " 5   Prate   261 non-null    float64\n",
      " 6   Exper   261 non-null    int64  \n",
      " 7   Rank    261 non-null    int64  \n",
      " 8   Sal94   261 non-null    int64  \n",
      " 9   Sal95   261 non-null    int64  \n",
      "dtypes: float64(1), int64(9)\n",
      "memory usage: 20.5 KB\n",
      "None\n"
     ]
    }
   ],
   "source": [
    "def check_df(dataframe, head=5):\n",
    "    print('################### Shape ###################')\n",
    "    print(dataframe.shape)\n",
    "    print('################### Types ###################')\n",
    "    print(dataframe.dtypes)\n",
    "    print('################### NA ######################')\n",
    "    print(dataframe.isnull().sum())\n",
    "    print('################### Info ####################')\n",
    "    print(dataframe.info())\n",
    "\n",
    "check_df(df)"
   ]
  },
  {
   "cell_type": "code",
   "execution_count": 19,
   "metadata": {},
   "outputs": [
    {
     "data": {
      "text/html": [
       "<div>\n",
       "<style scoped>\n",
       "    .dataframe tbody tr th:only-of-type {\n",
       "        vertical-align: middle;\n",
       "    }\n",
       "\n",
       "    .dataframe tbody tr th {\n",
       "        vertical-align: top;\n",
       "    }\n",
       "\n",
       "    .dataframe thead th {\n",
       "        text-align: right;\n",
       "    }\n",
       "</style>\n",
       "<table border=\"1\" class=\"dataframe\">\n",
       "  <thead>\n",
       "    <tr style=\"text-align: right;\">\n",
       "      <th></th>\n",
       "      <th>ID</th>\n",
       "      <th>Dept</th>\n",
       "      <th>Gender</th>\n",
       "      <th>Clin</th>\n",
       "      <th>Cert</th>\n",
       "      <th>Prate</th>\n",
       "      <th>Exper</th>\n",
       "      <th>Rank</th>\n",
       "      <th>Sal94</th>\n",
       "      <th>Sal95</th>\n",
       "    </tr>\n",
       "  </thead>\n",
       "  <tbody>\n",
       "    <tr>\n",
       "      <th>0</th>\n",
       "      <td>1</td>\n",
       "      <td>Biochemistry/Molecular Biology</td>\n",
       "      <td>Male</td>\n",
       "      <td>Primarily Research Emphasis</td>\n",
       "      <td>Not certified</td>\n",
       "      <td>7.4</td>\n",
       "      <td>9</td>\n",
       "      <td>Full Professor</td>\n",
       "      <td>77836</td>\n",
       "      <td>84612</td>\n",
       "    </tr>\n",
       "    <tr>\n",
       "      <th>1</th>\n",
       "      <td>2</td>\n",
       "      <td>Biochemistry/Molecular Biology</td>\n",
       "      <td>Male</td>\n",
       "      <td>Primarily Research Emphasis</td>\n",
       "      <td>Not certified</td>\n",
       "      <td>6.7</td>\n",
       "      <td>10</td>\n",
       "      <td>Associate</td>\n",
       "      <td>69994</td>\n",
       "      <td>78497</td>\n",
       "    </tr>\n",
       "    <tr>\n",
       "      <th>2</th>\n",
       "      <td>3</td>\n",
       "      <td>Biochemistry/Molecular Biology</td>\n",
       "      <td>Male</td>\n",
       "      <td>Primarily Research Emphasis</td>\n",
       "      <td>Not certified</td>\n",
       "      <td>8.1</td>\n",
       "      <td>6</td>\n",
       "      <td>Assistant</td>\n",
       "      <td>62872</td>\n",
       "      <td>67756</td>\n",
       "    </tr>\n",
       "    <tr>\n",
       "      <th>3</th>\n",
       "      <td>4</td>\n",
       "      <td>Biochemistry/Molecular Biology</td>\n",
       "      <td>Male</td>\n",
       "      <td>Primarily Clinical Emphasis</td>\n",
       "      <td>Board certified</td>\n",
       "      <td>5.1</td>\n",
       "      <td>27</td>\n",
       "      <td>Full Professor</td>\n",
       "      <td>155196</td>\n",
       "      <td>173220</td>\n",
       "    </tr>\n",
       "    <tr>\n",
       "      <th>4</th>\n",
       "      <td>5</td>\n",
       "      <td>Biochemistry/Molecular Biology</td>\n",
       "      <td>Male</td>\n",
       "      <td>Primarily Research Emphasis</td>\n",
       "      <td>Not certified</td>\n",
       "      <td>7.0</td>\n",
       "      <td>10</td>\n",
       "      <td>Full Professor</td>\n",
       "      <td>89268</td>\n",
       "      <td>96099</td>\n",
       "    </tr>\n",
       "  </tbody>\n",
       "</table>\n",
       "</div>"
      ],
      "text/plain": [
       "   ID                            Dept Gender                         Clin  \\\n",
       "0   1  Biochemistry/Molecular Biology   Male  Primarily Research Emphasis   \n",
       "1   2  Biochemistry/Molecular Biology   Male  Primarily Research Emphasis   \n",
       "2   3  Biochemistry/Molecular Biology   Male  Primarily Research Emphasis   \n",
       "3   4  Biochemistry/Molecular Biology   Male  Primarily Clinical Emphasis   \n",
       "4   5  Biochemistry/Molecular Biology   Male  Primarily Research Emphasis   \n",
       "\n",
       "              Cert  Prate  Exper            Rank   Sal94   Sal95  \n",
       "0    Not certified    7.4      9  Full Professor   77836   84612  \n",
       "1    Not certified    6.7     10       Associate   69994   78497  \n",
       "2    Not certified    8.1      6       Assistant   62872   67756  \n",
       "3  Board certified    5.1     27  Full Professor  155196  173220  \n",
       "4    Not certified    7.0     10  Full Professor   89268   96099  "
      ]
     },
     "execution_count": 19,
     "metadata": {},
     "output_type": "execute_result"
    }
   ],
   "source": [
    "df[\"Gender\"] = df[\"Gender\"].replace({1: 'Male', 0: 'Female'})\n",
    "df[\"Dept\"] = df[\"Dept\"].replace({1: 'Biochemistry/Molecular Biology', 2: 'Physiology', \n",
    "                                 3: 'Genetics',4: 'Pediatrics', 5: 'Medicine', 6: 'Surgery'})\n",
    "\n",
    "df[\"Clin\"] = df[\"Clin\"].replace({1: 'Primarily Clinical Emphasis', 0: 'Primarily Research Emphasis'})\n",
    "df[\"Cert\"] = df[\"Cert\"].replace({1: 'Board certified', 0: 'Not certified'})\n",
    "df[\"Rank\"] = df[\"Rank\"].replace({1: 'Assistant', 2: 'Associate', 3: 'Full Professor'})\n",
    "\n",
    "df.head()"
   ]
  },
  {
   "cell_type": "code",
   "execution_count": 20,
   "metadata": {},
   "outputs": [
    {
     "data": {
      "text/html": [
       "<div>\n",
       "<style scoped>\n",
       "    .dataframe tbody tr th:only-of-type {\n",
       "        vertical-align: middle;\n",
       "    }\n",
       "\n",
       "    .dataframe tbody tr th {\n",
       "        vertical-align: top;\n",
       "    }\n",
       "\n",
       "    .dataframe thead th {\n",
       "        text-align: right;\n",
       "    }\n",
       "</style>\n",
       "<table border=\"1\" class=\"dataframe\">\n",
       "  <thead>\n",
       "    <tr style=\"text-align: right;\">\n",
       "      <th></th>\n",
       "      <th>ID</th>\n",
       "      <th>Prate</th>\n",
       "      <th>Exper</th>\n",
       "      <th>Sal94</th>\n",
       "      <th>Sal95</th>\n",
       "    </tr>\n",
       "  </thead>\n",
       "  <tbody>\n",
       "    <tr>\n",
       "      <th>count</th>\n",
       "      <td>261.00000</td>\n",
       "      <td>261.000000</td>\n",
       "      <td>261.000000</td>\n",
       "      <td>261.000000</td>\n",
       "      <td>261.000000</td>\n",
       "    </tr>\n",
       "    <tr>\n",
       "      <th>mean</th>\n",
       "      <td>131.00000</td>\n",
       "      <td>4.932184</td>\n",
       "      <td>10.229885</td>\n",
       "      <td>153593.344828</td>\n",
       "      <td>168906.655172</td>\n",
       "    </tr>\n",
       "    <tr>\n",
       "      <th>std</th>\n",
       "      <td>75.48841</td>\n",
       "      <td>1.944430</td>\n",
       "      <td>6.227176</td>\n",
       "      <td>80469.666720</td>\n",
       "      <td>88778.425411</td>\n",
       "    </tr>\n",
       "    <tr>\n",
       "      <th>min</th>\n",
       "      <td>1.00000</td>\n",
       "      <td>1.300000</td>\n",
       "      <td>1.000000</td>\n",
       "      <td>34514.000000</td>\n",
       "      <td>38675.000000</td>\n",
       "    </tr>\n",
       "    <tr>\n",
       "      <th>25%</th>\n",
       "      <td>66.00000</td>\n",
       "      <td>3.200000</td>\n",
       "      <td>6.000000</td>\n",
       "      <td>90771.000000</td>\n",
       "      <td>99972.000000</td>\n",
       "    </tr>\n",
       "    <tr>\n",
       "      <th>50%</th>\n",
       "      <td>131.00000</td>\n",
       "      <td>4.400000</td>\n",
       "      <td>9.000000</td>\n",
       "      <td>133284.000000</td>\n",
       "      <td>148117.000000</td>\n",
       "    </tr>\n",
       "    <tr>\n",
       "      <th>75%</th>\n",
       "      <td>196.00000</td>\n",
       "      <td>6.900000</td>\n",
       "      <td>14.000000</td>\n",
       "      <td>200543.000000</td>\n",
       "      <td>218955.000000</td>\n",
       "    </tr>\n",
       "    <tr>\n",
       "      <th>max</th>\n",
       "      <td>261.00000</td>\n",
       "      <td>8.700000</td>\n",
       "      <td>37.000000</td>\n",
       "      <td>428876.000000</td>\n",
       "      <td>472589.000000</td>\n",
       "    </tr>\n",
       "  </tbody>\n",
       "</table>\n",
       "</div>"
      ],
      "text/plain": [
       "              ID       Prate       Exper          Sal94          Sal95\n",
       "count  261.00000  261.000000  261.000000     261.000000     261.000000\n",
       "mean   131.00000    4.932184   10.229885  153593.344828  168906.655172\n",
       "std     75.48841    1.944430    6.227176   80469.666720   88778.425411\n",
       "min      1.00000    1.300000    1.000000   34514.000000   38675.000000\n",
       "25%     66.00000    3.200000    6.000000   90771.000000   99972.000000\n",
       "50%    131.00000    4.400000    9.000000  133284.000000  148117.000000\n",
       "75%    196.00000    6.900000   14.000000  200543.000000  218955.000000\n",
       "max    261.00000    8.700000   37.000000  428876.000000  472589.000000"
      ]
     },
     "execution_count": 20,
     "metadata": {},
     "output_type": "execute_result"
    }
   ],
   "source": [
    "df.describe()"
   ]
  },
  {
   "cell_type": "code",
   "execution_count": 21,
   "metadata": {},
   "outputs": [
    {
     "data": {
      "text/plain": [
       "array(['Biochemistry/Molecular Biology', 'Physiology', 'Genetics',\n",
       "       'Pediatrics', 'Medicine', 'Surgery'], dtype=object)"
      ]
     },
     "execution_count": 21,
     "metadata": {},
     "output_type": "execute_result"
    }
   ],
   "source": [
    "df[\"Dept\"].unique()"
   ]
  },
  {
   "cell_type": "code",
   "execution_count": 22,
   "metadata": {},
   "outputs": [
    {
     "data": {
      "text/plain": [
       "array(['Full Professor', 'Associate', 'Assistant'], dtype=object)"
      ]
     },
     "execution_count": 22,
     "metadata": {},
     "output_type": "execute_result"
    }
   ],
   "source": [
    "df[\"Rank\"].unique()"
   ]
  },
  {
   "cell_type": "code",
   "execution_count": 23,
   "metadata": {},
   "outputs": [
    {
     "data": {
      "text/plain": [
       "Gender\n",
       "Male      155\n",
       "Female    106\n",
       "Name: count, dtype: int64"
      ]
     },
     "execution_count": 23,
     "metadata": {},
     "output_type": "execute_result"
    }
   ],
   "source": [
    "df[\"Gender\"].value_counts()"
   ]
  },
  {
   "cell_type": "code",
   "execution_count": 24,
   "metadata": {},
   "outputs": [
    {
     "name": "stdout",
     "output_type": "stream",
     "text": [
      "Gender          Female  Male\n",
      "Rank                        \n",
      "Assistant           69    43\n",
      "Associate           21    43\n",
      "Full Professor      16    69\n"
     ]
    }
   ],
   "source": [
    "#Cinsiyete göre akademik statü dağılımı\n",
    "\n",
    "rank_gender_counts = df.pivot_table(index=\"Rank\", columns=\"Gender\", aggfunc=\"size\", fill_value=0)\n",
    "print(rank_gender_counts)"
   ]
  },
  {
   "cell_type": "code",
   "execution_count": 28,
   "metadata": {},
   "outputs": [
    {
     "name": "stdout",
     "output_type": "stream",
     "text": [
      "Requirement already satisfied: seaborn in c:\\users\\ayşe sincap\\.conda\\envs\\pythonproject\\lib\\site-packages (0.13.2)\n",
      "Requirement already satisfied: numpy!=1.24.0,>=1.20 in c:\\users\\ayşe sincap\\.conda\\envs\\pythonproject\\lib\\site-packages (from seaborn) (2.2.2)\n",
      "Requirement already satisfied: pandas>=1.2 in c:\\users\\ayşe sincap\\.conda\\envs\\pythonproject\\lib\\site-packages (from seaborn) (2.2.3)\n",
      "Requirement already satisfied: matplotlib!=3.6.1,>=3.4 in c:\\users\\ayşe sincap\\.conda\\envs\\pythonproject\\lib\\site-packages (from seaborn) (3.10.0)\n",
      "Requirement already satisfied: contourpy>=1.0.1 in c:\\users\\ayşe sincap\\.conda\\envs\\pythonproject\\lib\\site-packages (from matplotlib!=3.6.1,>=3.4->seaborn) (1.3.1)\n",
      "Requirement already satisfied: cycler>=0.10 in c:\\users\\ayşe sincap\\.conda\\envs\\pythonproject\\lib\\site-packages (from matplotlib!=3.6.1,>=3.4->seaborn) (0.12.1)\n",
      "Requirement already satisfied: fonttools>=4.22.0 in c:\\users\\ayşe sincap\\.conda\\envs\\pythonproject\\lib\\site-packages (from matplotlib!=3.6.1,>=3.4->seaborn) (4.55.8)\n",
      "Requirement already satisfied: kiwisolver>=1.3.1 in c:\\users\\ayşe sincap\\.conda\\envs\\pythonproject\\lib\\site-packages (from matplotlib!=3.6.1,>=3.4->seaborn) (1.4.8)\n",
      "Requirement already satisfied: packaging>=20.0 in c:\\users\\ayşe sincap\\.conda\\envs\\pythonproject\\lib\\site-packages (from matplotlib!=3.6.1,>=3.4->seaborn) (24.2)\n",
      "Requirement already satisfied: pillow>=8 in c:\\users\\ayşe sincap\\.conda\\envs\\pythonproject\\lib\\site-packages (from matplotlib!=3.6.1,>=3.4->seaborn) (11.1.0)\n",
      "Requirement already satisfied: pyparsing>=2.3.1 in c:\\users\\ayşe sincap\\.conda\\envs\\pythonproject\\lib\\site-packages (from matplotlib!=3.6.1,>=3.4->seaborn) (3.2.1)\n",
      "Requirement already satisfied: python-dateutil>=2.7 in c:\\users\\ayşe sincap\\.conda\\envs\\pythonproject\\lib\\site-packages (from matplotlib!=3.6.1,>=3.4->seaborn) (2.9.0.post0)\n",
      "Requirement already satisfied: pytz>=2020.1 in c:\\users\\ayşe sincap\\.conda\\envs\\pythonproject\\lib\\site-packages (from pandas>=1.2->seaborn) (2025.1)\n",
      "Requirement already satisfied: tzdata>=2022.7 in c:\\users\\ayşe sincap\\.conda\\envs\\pythonproject\\lib\\site-packages (from pandas>=1.2->seaborn) (2025.1)\n",
      "Requirement already satisfied: six>=1.5 in c:\\users\\ayşe sincap\\.conda\\envs\\pythonproject\\lib\\site-packages (from python-dateutil>=2.7->matplotlib!=3.6.1,>=3.4->seaborn) (1.17.0)\n",
      "Requirement already satisfied: matplotlib in c:\\users\\ayşe sincap\\.conda\\envs\\pythonproject\\lib\\site-packages (3.10.0)\n",
      "Requirement already satisfied: contourpy>=1.0.1 in c:\\users\\ayşe sincap\\.conda\\envs\\pythonproject\\lib\\site-packages (from matplotlib) (1.3.1)\n",
      "Requirement already satisfied: cycler>=0.10 in c:\\users\\ayşe sincap\\.conda\\envs\\pythonproject\\lib\\site-packages (from matplotlib) (0.12.1)\n",
      "Requirement already satisfied: fonttools>=4.22.0 in c:\\users\\ayşe sincap\\.conda\\envs\\pythonproject\\lib\\site-packages (from matplotlib) (4.55.8)\n",
      "Requirement already satisfied: kiwisolver>=1.3.1 in c:\\users\\ayşe sincap\\.conda\\envs\\pythonproject\\lib\\site-packages (from matplotlib) (1.4.8)\n",
      "Requirement already satisfied: numpy>=1.23 in c:\\users\\ayşe sincap\\.conda\\envs\\pythonproject\\lib\\site-packages (from matplotlib) (2.2.2)\n",
      "Requirement already satisfied: packaging>=20.0 in c:\\users\\ayşe sincap\\.conda\\envs\\pythonproject\\lib\\site-packages (from matplotlib) (24.2)\n",
      "Requirement already satisfied: pillow>=8 in c:\\users\\ayşe sincap\\.conda\\envs\\pythonproject\\lib\\site-packages (from matplotlib) (11.1.0)\n",
      "Requirement already satisfied: pyparsing>=2.3.1 in c:\\users\\ayşe sincap\\.conda\\envs\\pythonproject\\lib\\site-packages (from matplotlib) (3.2.1)\n",
      "Requirement already satisfied: python-dateutil>=2.7 in c:\\users\\ayşe sincap\\.conda\\envs\\pythonproject\\lib\\site-packages (from matplotlib) (2.9.0.post0)\n",
      "Requirement already satisfied: six>=1.5 in c:\\users\\ayşe sincap\\.conda\\envs\\pythonproject\\lib\\site-packages (from python-dateutil>=2.7->matplotlib) (1.17.0)\n"
     ]
    }
   ],
   "source": [
    "!pip install seaborn\n",
    "!pip install matplotlib\n",
    "import seaborn as sns\n",
    "import matplotlib.pyplot as plt\n",
    "import warnings \n",
    "warnings.filterwarnings('ignore', category=FutureWarning)"
   ]
  },
  {
   "cell_type": "code",
   "execution_count": 29,
   "metadata": {},
   "outputs": [
    {
     "data": {
      "text/html": [
       "<div>\n",
       "<style scoped>\n",
       "    .dataframe tbody tr th:only-of-type {\n",
       "        vertical-align: middle;\n",
       "    }\n",
       "\n",
       "    .dataframe tbody tr th {\n",
       "        vertical-align: top;\n",
       "    }\n",
       "\n",
       "    .dataframe thead th {\n",
       "        text-align: right;\n",
       "    }\n",
       "</style>\n",
       "<table border=\"1\" class=\"dataframe\">\n",
       "  <thead>\n",
       "    <tr style=\"text-align: right;\">\n",
       "      <th></th>\n",
       "      <th>ID</th>\n",
       "      <th>Dept</th>\n",
       "      <th>Gender</th>\n",
       "      <th>Clin</th>\n",
       "      <th>Cert</th>\n",
       "      <th>Prate</th>\n",
       "      <th>Exper</th>\n",
       "      <th>Rank</th>\n",
       "      <th>Sal94</th>\n",
       "      <th>Sal95</th>\n",
       "    </tr>\n",
       "  </thead>\n",
       "  <tbody>\n",
       "    <tr>\n",
       "      <th>0</th>\n",
       "      <td>1</td>\n",
       "      <td>Biochemistry/Molecular Biology</td>\n",
       "      <td>Male</td>\n",
       "      <td>Primarily Research Emphasis</td>\n",
       "      <td>Not certified</td>\n",
       "      <td>7.4</td>\n",
       "      <td>9</td>\n",
       "      <td>Full Professor</td>\n",
       "      <td>77836</td>\n",
       "      <td>84612</td>\n",
       "    </tr>\n",
       "    <tr>\n",
       "      <th>1</th>\n",
       "      <td>2</td>\n",
       "      <td>Biochemistry/Molecular Biology</td>\n",
       "      <td>Male</td>\n",
       "      <td>Primarily Research Emphasis</td>\n",
       "      <td>Not certified</td>\n",
       "      <td>6.7</td>\n",
       "      <td>10</td>\n",
       "      <td>Associate</td>\n",
       "      <td>69994</td>\n",
       "      <td>78497</td>\n",
       "    </tr>\n",
       "    <tr>\n",
       "      <th>2</th>\n",
       "      <td>3</td>\n",
       "      <td>Biochemistry/Molecular Biology</td>\n",
       "      <td>Male</td>\n",
       "      <td>Primarily Research Emphasis</td>\n",
       "      <td>Not certified</td>\n",
       "      <td>8.1</td>\n",
       "      <td>6</td>\n",
       "      <td>Assistant</td>\n",
       "      <td>62872</td>\n",
       "      <td>67756</td>\n",
       "    </tr>\n",
       "    <tr>\n",
       "      <th>3</th>\n",
       "      <td>4</td>\n",
       "      <td>Biochemistry/Molecular Biology</td>\n",
       "      <td>Male</td>\n",
       "      <td>Primarily Clinical Emphasis</td>\n",
       "      <td>Board certified</td>\n",
       "      <td>5.1</td>\n",
       "      <td>27</td>\n",
       "      <td>Full Professor</td>\n",
       "      <td>155196</td>\n",
       "      <td>173220</td>\n",
       "    </tr>\n",
       "    <tr>\n",
       "      <th>4</th>\n",
       "      <td>5</td>\n",
       "      <td>Biochemistry/Molecular Biology</td>\n",
       "      <td>Male</td>\n",
       "      <td>Primarily Research Emphasis</td>\n",
       "      <td>Not certified</td>\n",
       "      <td>7.0</td>\n",
       "      <td>10</td>\n",
       "      <td>Full Professor</td>\n",
       "      <td>89268</td>\n",
       "      <td>96099</td>\n",
       "    </tr>\n",
       "  </tbody>\n",
       "</table>\n",
       "</div>"
      ],
      "text/plain": [
       "   ID                            Dept Gender                         Clin  \\\n",
       "0   1  Biochemistry/Molecular Biology   Male  Primarily Research Emphasis   \n",
       "1   2  Biochemistry/Molecular Biology   Male  Primarily Research Emphasis   \n",
       "2   3  Biochemistry/Molecular Biology   Male  Primarily Research Emphasis   \n",
       "3   4  Biochemistry/Molecular Biology   Male  Primarily Clinical Emphasis   \n",
       "4   5  Biochemistry/Molecular Biology   Male  Primarily Research Emphasis   \n",
       "\n",
       "              Cert  Prate  Exper            Rank   Sal94   Sal95  \n",
       "0    Not certified    7.4      9  Full Professor   77836   84612  \n",
       "1    Not certified    6.7     10       Associate   69994   78497  \n",
       "2    Not certified    8.1      6       Assistant   62872   67756  \n",
       "3  Board certified    5.1     27  Full Professor  155196  173220  \n",
       "4    Not certified    7.0     10  Full Professor   89268   96099  "
      ]
     },
     "execution_count": 29,
     "metadata": {},
     "output_type": "execute_result"
    }
   ],
   "source": [
    "df.head()"
   ]
  },
  {
   "cell_type": "code",
   "execution_count": 48,
   "metadata": {},
   "outputs": [
    {
     "data": {
      "image/png": "[encoded data removed]",
      "text/plain": [
       "<Figure size 800x600 with 1 Axes>"
      ]
     },
     "metadata": {},
     "output_type": "display_data"
    }
   ],
   "source": [
    "rank_gender_counts.plot(kind=\"bar\", figsize=(8, 6), colormap=\"coolwarm\", edgecolor=\"black\")\n",
    "\n",
    "plt.title(\"Academic Status Distribution by Gender\")\n",
    "plt.xlabel(\"Academic Status\")\n",
    "plt.ylabel(\"Person Counts\")\n",
    "plt.xticks(rotation=0)\n",
    "plt.legend(title=\"Gender\")\n",
    "plt.grid(axis=\"y\", linestyle=\"--\", alpha=0.7)\n",
    "plt.show()"
   ]
  },
  {
   "cell_type": "code",
   "execution_count": 49,
   "metadata": {},
   "outputs": [
    {
     "name": "stdout",
     "output_type": "stream",
     "text": [
      "   Gender          Sal94\n",
      "0  Female  118871.273585\n",
      "1    Male  177338.761290\n"
     ]
    }
   ],
   "source": [
    "salary_gender=df.groupby(\"Gender\")[\"Sal94\"].mean().reset_index()\n",
    "print(salary_gender)"
   ]
  },
  {
   "cell_type": "code",
   "execution_count": 51,
   "metadata": {},
   "outputs": [
    {
     "data": {
      "image/png": "[encoded data removed]",
      "text/plain": [
       "<Figure size 800x600 with 1 Axes>"
      ]
     },
     "metadata": {},
     "output_type": "display_data"
    }
   ],
   "source": [
    "plt.figure(figsize=(8,6))\n",
    "sns.boxplot(data=df, x=\"Gender\", y=\"Sal94\", palette=[\"lightblue\", \"salmon\"])\n",
    "plt.title(\"Salary Distribution by Gender\")\n",
    "plt.xlabel(\"Gender\")\n",
    "plt.ylabel(\"Salary (1994)\")\n",
    "plt.show()"
   ]
  },
  {
   "cell_type": "code",
   "execution_count": 55,
   "metadata": {},
   "outputs": [
    {
     "data": {
      "image/png": "[encoded data removed]",
      "text/plain": [
       "<Figure size 800x600 with 1 Axes>"
      ]
     },
     "metadata": {},
     "output_type": "display_data"
    }
   ],
   "source": [
    "colors = ['#1f77b4', '#ff7f0e', '#2ca02c', '#d62728', '#9467bd', '#8c564b']\n",
    "plt.figure(figsize=(8, 6))\n",
    "sns.barplot(x='Dept', y='Sal95', palette=colors, data=df, estimator='mean')\n",
    "plt.title('Average Salary by Academic Status')\n",
    "plt.xlabel(\"Department\")\n",
    "plt.ylabel(\"Salary (1995)\")\n",
    "plt.show()"
   ]
  },
  {
   "cell_type": "code",
   "execution_count": 56,
   "metadata": {},
   "outputs": [
    {
     "data": {
      "text/html": [
       "<div>\n",
       "<style scoped>\n",
       "    .dataframe tbody tr th:only-of-type {\n",
       "        vertical-align: middle;\n",
       "    }\n",
       "\n",
       "    .dataframe tbody tr th {\n",
       "        vertical-align: top;\n",
       "    }\n",
       "\n",
       "    .dataframe thead th {\n",
       "        text-align: right;\n",
       "    }\n",
       "</style>\n",
       "<table border=\"1\" class=\"dataframe\">\n",
       "  <thead>\n",
       "    <tr style=\"text-align: right;\">\n",
       "      <th></th>\n",
       "      <th>ID</th>\n",
       "      <th>Prate</th>\n",
       "      <th>Exper</th>\n",
       "      <th>Sal94</th>\n",
       "      <th>Sal95</th>\n",
       "    </tr>\n",
       "  </thead>\n",
       "  <tbody>\n",
       "    <tr>\n",
       "      <th>ID</th>\n",
       "      <td>1.000000</td>\n",
       "      <td>-0.817686</td>\n",
       "      <td>-0.154826</td>\n",
       "      <td>0.746931</td>\n",
       "      <td>0.748281</td>\n",
       "    </tr>\n",
       "    <tr>\n",
       "      <th>Prate</th>\n",
       "      <td>-0.817686</td>\n",
       "      <td>1.000000</td>\n",
       "      <td>0.111960</td>\n",
       "      <td>-0.712226</td>\n",
       "      <td>-0.713712</td>\n",
       "    </tr>\n",
       "    <tr>\n",
       "      <th>Exper</th>\n",
       "      <td>-0.154826</td>\n",
       "      <td>0.111960</td>\n",
       "      <td>1.000000</td>\n",
       "      <td>0.319804</td>\n",
       "      <td>0.318934</td>\n",
       "    </tr>\n",
       "    <tr>\n",
       "      <th>Sal94</th>\n",
       "      <td>0.746931</td>\n",
       "      <td>-0.712226</td>\n",
       "      <td>0.319804</td>\n",
       "      <td>1.000000</td>\n",
       "      <td>0.999255</td>\n",
       "    </tr>\n",
       "    <tr>\n",
       "      <th>Sal95</th>\n",
       "      <td>0.748281</td>\n",
       "      <td>-0.713712</td>\n",
       "      <td>0.318934</td>\n",
       "      <td>0.999255</td>\n",
       "      <td>1.000000</td>\n",
       "    </tr>\n",
       "  </tbody>\n",
       "</table>\n",
       "</div>"
      ],
      "text/plain": [
       "             ID     Prate     Exper     Sal94     Sal95\n",
       "ID     1.000000 -0.817686 -0.154826  0.746931  0.748281\n",
       "Prate -0.817686  1.000000  0.111960 -0.712226 -0.713712\n",
       "Exper -0.154826  0.111960  1.000000  0.319804  0.318934\n",
       "Sal94  0.746931 -0.712226  0.319804  1.000000  0.999255\n",
       "Sal95  0.748281 -0.713712  0.318934  0.999255  1.000000"
      ]
     },
     "execution_count": 56,
     "metadata": {},
     "output_type": "execute_result"
    }
   ],
   "source": [
    "numeric_df=df.select_dtypes(include=['int64', 'float64'])\n",
    "numeric_df.corr()"
   ]
  },
  {
   "cell_type": "code",
   "execution_count": 67,
   "metadata": {},
   "outputs": [],
   "source": [
    "def hist_impression(numeric_df):\n",
    "    plt.figure(figsize=(20,10))"
   ]
  },
  {
   "cell_type": "code",
   "execution_count": 72,
   "metadata": {},
   "outputs": [
    {
     "data": {
      "text/plain": [
       "Text(0.5, 1.0, 'Years Between CV Date and MD Date')"
      ]
     },
     "execution_count": 72,
     "metadata": {},
     "output_type": "execute_result"
    },
    {
     "data": {
      "image/png": "[encoded data removed]",
      "text/plain": [
       "<Figure size 640x480 with 1 Axes>"
      ]
     },
     "metadata": {},
     "output_type": "display_data"
    }
   ],
   "source": [
    "plt.subplot(2,2,1)\n",
    "sns.histplot(data=numeric_df, x='Prate', color='red', kde=True)\n",
    "plt.title('Years Between CV Date and MD Date',size=10)"
   ]
  },
  {
   "cell_type": "code",
   "execution_count": 73,
   "metadata": {},
   "outputs": [
    {
     "data": {
      "text/plain": [
       "Text(0.5, 1.0, 'Years Since Obtaining MD')"
      ]
     },
     "execution_count": 73,
     "metadata": {},
     "output_type": "execute_result"
    },
    {
     "data": {
      "image/png": "[encoded data removed]",
      "text/plain": [
       "<Figure size 640x480 with 1 Axes>"
      ]
     },
     "metadata": {},
     "output_type": "display_data"
    }
   ],
   "source": [
    "plt.subplot(2,2,1)\n",
    "sns.histplot(data=numeric_df, x='Exper', color='green', kde=True)\n",
    "plt.title('Years Since Obtaining MD',size=10)"
   ]
  },
  {
   "cell_type": "code",
   "execution_count": 2,
   "metadata": {},
   "outputs": [
    {
     "ename": "NameError",
     "evalue": "name 'plt' is not defined",
     "output_type": "error",
     "traceback": [
      "\u001b[1;31m---------------------------------------------------------------------------\u001b[0m",
      "\u001b[1;31mNameError\u001b[0m                                 Traceback (most recent call last)",
      "Cell \u001b[1;32mIn[2], line 1\u001b[0m\n\u001b[1;32m----> 1\u001b[0m \u001b[43mplt\u001b[49m\u001b[38;5;241m.\u001b[39msubplot(\u001b[38;5;241m2\u001b[39m,\u001b[38;5;241m2\u001b[39m,\u001b[38;5;241m1\u001b[39m)\n\u001b[0;32m      2\u001b[0m sns\u001b[38;5;241m.\u001b[39mhistplot(data\u001b[38;5;241m=\u001b[39mnumeric_df, x\u001b[38;5;241m=\u001b[39m\u001b[38;5;124m'\u001b[39m\u001b[38;5;124mSal94\u001b[39m\u001b[38;5;124m'\u001b[39m, color\u001b[38;5;241m=\u001b[39m\u001b[38;5;124m'\u001b[39m\u001b[38;5;124mpink\u001b[39m\u001b[38;5;124m'\u001b[39m, kde\u001b[38;5;241m=\u001b[39m\u001b[38;5;28;01mTrue\u001b[39;00m)\n\u001b[0;32m      3\u001b[0m plt\u001b[38;5;241m.\u001b[39mtitle(\u001b[38;5;124m'\u001b[39m\u001b[38;5;124mSalary In Academic Year 1994\u001b[39m\u001b[38;5;124m'\u001b[39m,size\u001b[38;5;241m=\u001b[39m\u001b[38;5;241m10\u001b[39m)\n",
      "\u001b[1;31mNameError\u001b[0m: name 'plt' is not defined"
     ]
    }
   ],
   "source": [
    "plt.subplot(2,2,1)\n",
    "sns.histplot(data=numeric_df, x='Sal94', color='pink', kde=True)\n",
    "plt.title('Salary In Academic Year 1994',size=10)"
   ]
  },
  {
   "cell_type": "code",
   "execution_count": 75,
   "metadata": {},
   "outputs": [
    {
     "data": {
      "text/plain": [
       "Text(0.5, 1.0, 'Salary After Increment to 1994')"
      ]
     },
     "execution_count": 75,
     "metadata": {},
     "output_type": "execute_result"
    },
    {
     "data": {
      "image/png": "[encoded data removed]",
      "text/plain": [
       "<Figure size 640x480 with 1 Axes>"
      ]
     },
     "metadata": {},
     "output_type": "display_data"
    }
   ],
   "source": [
    " plt.subplot(2,2,1)\n",
    "sns.histplot(data=numeric_df, x='Sal95', color='blue', kde=True)\n",
    "plt.title('Salary After Increment to 1994',size=10)"
   ]
  },
  {
   "cell_type": "code",
   "execution_count": null,
   "metadata": {},
   "outputs": [],
   "source": [
    "plt.subplot(2,2,1)\n",
    "sns.histplot(data=numeric_df, x='Sal94', color='pink', kde=True)\n",
    "plt.title('Salary In Academic Year 1994',size=10)"
   ]
  },
  {
   "cell_type": "code",
   "execution_count": null,
   "metadata": {},
   "outputs": [],
   "source": []
  }
 ],
 "metadata": {
  "kernelspec": {
   "display_name": "PythonProject",
   "language": "python",
   "name": "python3"
  },
  "language_info": {
   "codemirror_mode": {
    "name": "ipython",
    "version": 3
   },
   "file_extension": ".py",
   "mimetype": "text/x-python",
   "name": "python",
   "nbconvert_exporter": "python",
   "pygments_lexer": "ipython3",
   "version": "3.12.8"
  }
 },
 "nbformat": 4,
 "nbformat_minor": 2
}
